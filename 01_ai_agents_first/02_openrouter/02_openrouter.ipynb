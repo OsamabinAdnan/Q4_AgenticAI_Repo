{
  "nbformat": 4,
  "nbformat_minor": 0,
  "metadata": {
    "colab": {
      "provenance": []
    },
    "kernelspec": {
      "name": "python3",
      "display_name": "Python 3"
    },
    "language_info": {
      "name": "python"
    }
  },
  "cells": [
    {
      "cell_type": "code",
      "execution_count": 1,
      "metadata": {
        "colab": {
          "base_uri": "https://localhost:8080/"
        },
        "id": "fzS0GEJNkZEu",
        "outputId": "8b632106-c023-4ff3-9287-00d020b9ec50"
      },
      "outputs": [
        {
          "output_type": "stream",
          "name": "stdout",
          "text": [
            "\u001b[?25l   \u001b[90m━━━━━━━━━━━━━━━━━━━━━━━━━━━━━━━━━━━━━━━━\u001b[0m \u001b[32m0.0/126.7 kB\u001b[0m \u001b[31m?\u001b[0m eta \u001b[36m-:--:--\u001b[0m\r\u001b[2K   \u001b[90m━━━━━━━━━━━━━━━━━━━━━━━━━━━━━━━━━━━━━━━━\u001b[0m \u001b[32m126.7/126.7 kB\u001b[0m \u001b[31m4.6 MB/s\u001b[0m eta \u001b[36m0:00:00\u001b[0m\n",
            "\u001b[?25h\u001b[?25l   \u001b[90m━━━━━━━━━━━━━━━━━━━━━━━━━━━━━━━━━━━━━━━━\u001b[0m \u001b[32m0.0/129.3 kB\u001b[0m \u001b[31m?\u001b[0m eta \u001b[36m-:--:--\u001b[0m\r\u001b[2K   \u001b[90m━━━━━━━━━━━━━━━━━━━━━━━━━━━━━━━━━━━━━━━━\u001b[0m \u001b[32m129.3/129.3 kB\u001b[0m \u001b[31m7.1 MB/s\u001b[0m eta \u001b[36m0:00:00\u001b[0m\n",
            "\u001b[2K   \u001b[90m━━━━━━━━━━━━━━━━━━━━━━━━━━━━━━━━━━━━━━━━\u001b[0m \u001b[32m130.2/130.2 kB\u001b[0m \u001b[31m8.2 MB/s\u001b[0m eta \u001b[36m0:00:00\u001b[0m\n",
            "\u001b[2K   \u001b[90m━━━━━━━━━━━━━━━━━━━━━━━━━━━━━━━━━━━━━━━━\u001b[0m \u001b[32m734.3/734.3 kB\u001b[0m \u001b[31m14.7 MB/s\u001b[0m eta \u001b[36m0:00:00\u001b[0m\n",
            "\u001b[2K   \u001b[90m━━━━━━━━━━━━━━━━━━━━━━━━━━━━━━━━━━━━━━━━\u001b[0m \u001b[32m44.4/44.4 kB\u001b[0m \u001b[31m2.2 MB/s\u001b[0m eta \u001b[36m0:00:00\u001b[0m\n",
            "\u001b[?25h"
          ]
        }
      ],
      "source": [
        "!pip install -Uq openai-agents"
      ]
    },
    {
      "cell_type": "code",
      "source": [
        "import nest_asyncio\n",
        "nest_asyncio.apply()"
      ],
      "metadata": {
        "id": "oX2-qFsYyO0E"
      },
      "execution_count": 3,
      "outputs": []
    },
    {
      "cell_type": "code",
      "source": [
        "from google.colab import userdata\n",
        "\n",
        "OPENROUTER_API_KEY = userdata.get(\"OPENROUTER_API_KEY\")"
      ],
      "metadata": {
        "id": "Hh7G-wqvyZXK"
      },
      "execution_count": 4,
      "outputs": []
    },
    {
      "cell_type": "code",
      "source": [
        "# Reference: https://openrouter.ai/docs/quickstart\n",
        "\n",
        "BASE_URL= \"https://openrouter.ai/api/v1\"\n",
        "MODEL = \"deepseek/deepseek-chat-v3-0324:free\"\n",
        "\n",
        "# Some other free models on 26th March:\n",
        "# https://openrouter.ai/deepseek/deepseek-chat-v3-0324:free\n",
        "# https://openrouter.ai/google/gemini-2.5-pro-exp-03-25:free"
      ],
      "metadata": {
        "id": "q9ldZP0DywRC"
      },
      "execution_count": 13,
      "outputs": []
    },
    {
      "cell_type": "markdown",
      "source": [
        "## **Using the OpenRouter API directly**"
      ],
      "metadata": {
        "id": "hsa9X3ApzWvI"
      }
    },
    {
      "cell_type": "code",
      "source": [
        "import requests\n",
        "import json\n",
        "\n",
        "response = requests.post(\n",
        "  url=f\"{BASE_URL}/chat/completions\",\n",
        "  headers={\n",
        "    \"Authorization\": f\"Bearer {OPENROUTER_API_KEY}\",\n",
        "  },\n",
        "  data=json.dumps({\n",
        "    \"model\": MODEL,\n",
        "    \"messages\": [\n",
        "      {\n",
        "        \"role\": \"user\",\n",
        "        \"content\": \"What is the meaning of life?\"\n",
        "      }\n",
        "    ]\n",
        "  })\n",
        ")\n",
        "\n",
        "print(response.json())"
      ],
      "metadata": {
        "colab": {
          "base_uri": "https://localhost:8080/"
        },
        "id": "pzpDvqm44DpJ",
        "outputId": "8d43ed7b-f50d-4132-8db4-7d10268f31bc"
      },
      "execution_count": 14,
      "outputs": [
        {
          "output_type": "stream",
          "name": "stdout",
          "text": [
            "{'id': 'gen-1750314864-b1vgzDwllmUMoIPNGOZ7', 'provider': 'Chutes', 'model': 'deepseek/deepseek-chat-v3-0324:free', 'object': 'chat.completion', 'created': 1750314864, 'choices': [{'logprobs': None, 'finish_reason': 'stop', 'native_finish_reason': 'stop', 'index': 0, 'message': {'role': 'assistant', 'content': 'The meaning of life is a profound and deeply personal question that has been explored by philosophers, theologians, scientists, and thinkers throughout history. There is no single, universally accepted answer, but here are a few perspectives to consider:\\n\\n### 1. **Philosophical Perspectives**\\n   - **Existentialism**: Life has no inherent meaning; it is up to each individual to create their own purpose through choices and actions (e.g., Sartre, Camus).\\n   - **Absurdism**: Life is inherently without meaning, but we must embrace the absurd and live passionately anyway (Camus).\\n   - **Stoicism**: Meaning comes from living virtuously, accepting what we cannot control, and focusing on inner peace.\\n\\n### 2. **Religious/Spiritual Views**\\n   - Many religions propose that life\\'s meaning is tied to divine purpose—serving God, achieving enlightenment (Buddhism, Hinduism), or fulfilling a spiritual destiny.\\n   - Some believe life is a test, a journey of the soul, or an opportunity for love and growth.\\n\\n### 3. **Scientific Perspective**\\n   - From a biological standpoint, life\\'s \"purpose\" could be seen as survival and reproduction (Darwinian view).\\n   - Some scientists suggest meaning emerges from consciousness, relationships, or our place in the universe (e.g., Carl Sagan\\'s emphasis on wonder and exploration).\\n\\n### 4. **Humanist View**\\n   - Meaning comes from human connections, creativity, contributing to society, and seeking happiness and fulfillment.\\n\\n### 5. **Personal Meaning**\\n   - Ultimately, many find purpose in love, family, art, knowledge, helping others, or personal growth. It’s often something you *choose* or *discover* through experience.\\n\\n### Camus\\' Take:\\nAlbert Camus famously said that judging whether life is worth living is the \"fundamental question of philosophy.\" His answer in *The Myth of Sisyphus* was to embrace the struggle itself as meaningful, even in a seemingly indifferent universe.\\n\\n### TL;DR:\\nThere’s no objective answer—it’s up to you to define. Explore, reflect, and find what gives *your* life meaning. \\n\\nWhat resonates with you?', 'refusal': None, 'reasoning': None}}], 'usage': {'prompt_tokens': 12, 'completion_tokens': 455, 'total_tokens': 467, 'prompt_tokens_details': None}}\n"
          ]
        }
      ]
    },
    {
      "cell_type": "code",
      "source": [
        "data = response.json()\n",
        "data[\"choices\"][0][\"message\"][\"content\"]"
      ],
      "metadata": {
        "colab": {
          "base_uri": "https://localhost:8080/",
          "height": 113
        },
        "id": "MTOIQhQS5fxF",
        "outputId": "eb2c581b-e86b-4f05-8785-fee53ee8a4e0"
      },
      "execution_count": 16,
      "outputs": [
        {
          "output_type": "execute_result",
          "data": {
            "text/plain": [
              "'The meaning of life is a profound and deeply personal question that has been explored by philosophers, theologians, scientists, and thinkers throughout history. There is no single, universally accepted answer, but here are a few perspectives to consider:\\n\\n### 1. **Philosophical Perspectives**\\n   - **Existentialism**: Life has no inherent meaning; it is up to each individual to create their own purpose through choices and actions (e.g., Sartre, Camus).\\n   - **Absurdism**: Life is inherently without meaning, but we must embrace the absurd and live passionately anyway (Camus).\\n   - **Stoicism**: Meaning comes from living virtuously, accepting what we cannot control, and focusing on inner peace.\\n\\n### 2. **Religious/Spiritual Views**\\n   - Many religions propose that life\\'s meaning is tied to divine purpose—serving God, achieving enlightenment (Buddhism, Hinduism), or fulfilling a spiritual destiny.\\n   - Some believe life is a test, a journey of the soul, or an opportunity for love and growth.\\n\\n### 3. **Scientific Perspective**\\n   - From a biological standpoint, life\\'s \"purpose\" could be seen as survival and reproduction (Darwinian view).\\n   - Some scientists suggest meaning emerges from consciousness, relationships, or our place in the universe (e.g., Carl Sagan\\'s emphasis on wonder and exploration).\\n\\n### 4. **Humanist View**\\n   - Meaning comes from human connections, creativity, contributing to society, and seeking happiness and fulfillment.\\n\\n### 5. **Personal Meaning**\\n   - Ultimately, many find purpose in love, family, art, knowledge, helping others, or personal growth. It’s often something you *choose* or *discover* through experience.\\n\\n### Camus\\' Take:\\nAlbert Camus famously said that judging whether life is worth living is the \"fundamental question of philosophy.\" His answer in *The Myth of Sisyphus* was to embrace the struggle itself as meaningful, even in a seemingly indifferent universe.\\n\\n### TL;DR:\\nThere’s no objective answer—it’s up to you to define. Explore, reflect, and find what gives *your* life meaning. \\n\\nWhat resonates with you?'"
            ],
            "application/vnd.google.colaboratory.intrinsic+json": {
              "type": "string"
            }
          },
          "metadata": {},
          "execution_count": 16
        }
      ]
    },
    {
      "cell_type": "markdown",
      "source": [
        "## **2. Using OpenAI Agents SDK**"
      ],
      "metadata": {
        "id": "5Pu25NzC51vb"
      }
    },
    {
      "cell_type": "code",
      "source": [
        "import asyncio\n",
        "from openai import AsyncOpenAI\n",
        "from agents import Agent, OpenAIChatCompletionsModel, Runner, set_tracing_disabled\n",
        "\n",
        "client = AsyncOpenAI(\n",
        "    api_key=OPENROUTER_API_KEY,\n",
        "    base_url=BASE_URL,\n",
        ")\n",
        "\n",
        "set_tracing_disabled=True\n",
        "\n",
        "async def main():\n",
        "  agent = Agent(\n",
        "      name=\"Assistant\",\n",
        "      instructions=\"You only respond in haikus.\",\n",
        "      model=OpenAIChatCompletionsModel(model=MODEL, openai_client=client)\n",
        "  )\n",
        "\n",
        "  result = await Runner.run(agent,  \"Tell me about recursion in programming.\")\n",
        "\n",
        "  print(result.final_output)\n",
        "\n",
        "if __name__ == \"__main__\":\n",
        "  asyncio.run(main())"
      ],
      "metadata": {
        "colab": {
          "base_uri": "https://localhost:8080/"
        },
        "id": "N7KrVWO46Mc6",
        "outputId": "8419b810-65a0-4dbc-a60f-b484f694faec"
      },
      "execution_count": 19,
      "outputs": [
        {
          "output_type": "stream",
          "name": "stdout",
          "text": [
            "A function calls itself,  \n",
            "looping deep till the end comes,  \n",
            "base case breaks the thread.\n"
          ]
        }
      ]
    }
  ]
}